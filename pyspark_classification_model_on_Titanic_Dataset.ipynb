{
  "metadata": {
    "kernelspec": {
      "language": "python",
      "display_name": "Python 3",
      "name": "python3"
    },
    "language_info": {
      "pygments_lexer": "ipython3",
      "nbconvert_exporter": "python",
      "version": "3.6.4",
      "file_extension": ".py",
      "codemirror_mode": {
        "name": "ipython",
        "version": 3
      },
      "name": "python",
      "mimetype": "text/x-python"
    },
    "colab": {
      "provenance": []
    }
  },
  "nbformat_minor": 0,
  "nbformat": 4,
  "cells": [
    {
      "cell_type": "markdown",
      "source": [
        "**NOTEBOOK MODIFIED BY MUHAMMAD ASAD IQBAL**"
      ],
      "metadata": {
        "id": "sOUbzskOp7fo"
      }
    },
    {
      "cell_type": "markdown",
      "source": [
        "The main aim of this notebook is to demonstrate how to perform various data preprocessing, exploratory data analysis (EDA), feature engineering, and machine learning tasks using PySpark, a Python library for distributed data processing and machine learning. Specifically, the notebook focuses on working with a Titanic dataset, which contains passenger information (such as age, sex, class, and fare) and whether they survived the Titanic disaster or not. The key objectives of this notebook can be summarized as follows:\n",
        "\n",
        "#Data Preprocessing:\n",
        "The notebook starts by showing how to set up PySpark, create a Spark session, and read CSV files. It emphasizes the importance of defining the schema when reading data, as Spark requires schema definition. The notebook demonstrates how to handle missing data and convert data types when necessary.\n",
        "\n",
        "#Exploratory Data Analysis (EDA):\n",
        "The notebook then proceeds to perform EDA on the dataset. It uses various Spark operations to explore and analyze the data. This includes inspecting data schema, displaying sample rows, calculating summary statistics, and generating tabular visualizations to gain insights into the dataset.\n",
        "\n",
        "#Feature Engineering:\n",
        "Feature engineering involves creating new features or modifying existing ones to improve the predictive power of a machine learning model. In this notebook, feature engineering tasks include creating a \"FamilySize\" feature based on the number of family members, converting categorical variables (e.g., \"Sex\" and \"Embarked\") into numerical categories, and imputing missing values, particularly for the \"Age\" feature.\n",
        "\n",
        "#Machine Learning Model Building:\n",
        "The notebook demonstrates how to build machine learning models using Spark MLlib. It covers both linear models (Logistic Regression with Ridge and Lasso regularization) and ensemble tree-based models (Random Forest and Gradient Boosting). For each model, it emphasizes the need to specify the label column and feature columns.\n",
        "\n",
        "#Model Evaluation:\n",
        "After training the machine learning models, the notebook evaluates their performance using accuracy as the metric. It utilizes Spark's MulticlassClassificationEvaluator to assess the accuracy of the models on a validation dataset.\n",
        "\n",
        "#Prediction:\n",
        "The notebook also hints at making predictions on a test dataset and mentions the need to preprocess the test data in a similar way to the training data. The final aim is typically to make predictions for passenger survival on the Titanic test data and possibly submit the results.\n",
        "\n"
      ],
      "metadata": {
        "id": "CcMLwHoloq9p"
      }
    },
    {
      "cell_type": "markdown",
      "source": [
        "# Starting pySpark\n",
        "\n",
        "Spark is not available in Kaggle notebook by default. But installing pySpark in Kaggle kernel is easy."
      ],
      "metadata": {
        "id": "5X2j-o93iday"
      }
    },
    {
      "cell_type": "code",
      "source": [
        "pip install pyspark"
      ],
      "metadata": {
        "colab": {
          "base_uri": "https://localhost:8080/"
        },
        "id": "ipHrinSfitBy",
        "outputId": "a2b45dc7-3a87-4141-ba1a-a29a5ba2e8ca"
      },
      "execution_count": 1,
      "outputs": [
        {
          "output_type": "stream",
          "name": "stdout",
          "text": [
            "Requirement already satisfied: pyspark in /usr/local/lib/python3.10/dist-packages (3.5.0)\n",
            "Requirement already satisfied: py4j==0.10.9.7 in /usr/local/lib/python3.10/dist-packages (from pyspark) (0.10.9.7)\n"
          ]
        }
      ]
    },
    {
      "cell_type": "markdown",
      "source": [
        "First, we need to start a SparkSession and create a spark instance."
      ],
      "metadata": {
        "id": "7opdyRKqida2"
      }
    },
    {
      "cell_type": "code",
      "source": [
        "from pyspark.sql import SparkSession\n",
        "spark = SparkSession.builder.appName('classification').getOrCreate()"
      ],
      "metadata": {
        "trusted": true,
        "id": "7I_Uz0kDida2"
      },
      "execution_count": 2,
      "outputs": []
    },
    {
      "cell_type": "code",
      "source": [
        "from itertools import chain\n",
        "from pyspark.sql.functions import count, mean, when, lit, create_map, regexp_extract"
      ],
      "metadata": {
        "trusted": true,
        "id": "WX6bIBK0ida2"
      },
      "execution_count": 3,
      "outputs": []
    },
    {
      "cell_type": "code",
      "source": [
        "df1 = spark.read.csv('train.csv',\\\n",
        "                     header=True, inferSchema=True)\n",
        "df2 = spark.read.csv('test.csv', \\\n",
        "                     header=True, inferSchema=True)"
      ],
      "metadata": {
        "trusted": true,
        "id": "4iD_UH7Qida3"
      },
      "execution_count": 4,
      "outputs": []
    },
    {
      "cell_type": "markdown",
      "source": [
        "We can view the schema here. There is no need to print the column names separately. Although this option is available in Spark. We will use it shortly for a different purposes."
      ],
      "metadata": {
        "id": "OiY6iviaida3"
      }
    },
    {
      "cell_type": "code",
      "source": [
        "df1.printSchema()"
      ],
      "metadata": {
        "trusted": true,
        "colab": {
          "base_uri": "https://localhost:8080/"
        },
        "id": "9BI_Kb2fida3",
        "outputId": "0b8e73c6-9234-4ac6-cab1-628dc344d59f"
      },
      "execution_count": 5,
      "outputs": [
        {
          "output_type": "stream",
          "name": "stdout",
          "text": [
            "root\n",
            " |-- PassengerId: integer (nullable = true)\n",
            " |-- Survived: integer (nullable = true)\n",
            " |-- Pclass: integer (nullable = true)\n",
            " |-- Name: string (nullable = true)\n",
            " |-- Sex: string (nullable = true)\n",
            " |-- Age: double (nullable = true)\n",
            " |-- SibSp: integer (nullable = true)\n",
            " |-- Parch: integer (nullable = true)\n",
            " |-- Ticket: string (nullable = true)\n",
            " |-- Fare: double (nullable = true)\n",
            " |-- Cabin: string (nullable = true)\n",
            " |-- Embarked: string (nullable = true)\n",
            "\n"
          ]
        }
      ]
    },
    {
      "cell_type": "markdown",
      "source": [
        "Pandas has head(), tail(), sample() options to view few rows of the dataframe. Spark dataframe also has all of those options which you can try. But here we use show(n) method to view sample rows of the dataframe. By default show() presents 20 rows. Please remember the discussion of transformation vs action above. All of these are example of Spark action."
      ],
      "metadata": {
        "id": "upD8wstXida4"
      }
    },
    {
      "cell_type": "code",
      "source": [
        "df1.show(4)"
      ],
      "metadata": {
        "trusted": true,
        "colab": {
          "base_uri": "https://localhost:8080/"
        },
        "id": "G0dW7u_wida4",
        "outputId": "b7025254-601c-4600-b01e-b9d69a43003a"
      },
      "execution_count": 6,
      "outputs": [
        {
          "output_type": "stream",
          "name": "stdout",
          "text": [
            "+-----------+--------+------+--------------------+------+----+-----+-----+----------------+-------+-----+--------+\n",
            "|PassengerId|Survived|Pclass|                Name|   Sex| Age|SibSp|Parch|          Ticket|   Fare|Cabin|Embarked|\n",
            "+-----------+--------+------+--------------------+------+----+-----+-----+----------------+-------+-----+--------+\n",
            "|          1|       0|     3|Braund, Mr. Owen ...|  male|22.0|    1|    0|       A/5 21171|   7.25| NULL|       S|\n",
            "|          2|       1|     1|Cumings, Mrs. Joh...|female|38.0|    1|    0|        PC 17599|71.2833|  C85|       C|\n",
            "|          3|       1|     3|Heikkinen, Miss. ...|female|26.0|    0|    0|STON/O2. 3101282|  7.925| NULL|       S|\n",
            "|          4|       1|     1|Futrelle, Mrs. Ja...|female|35.0|    1|    0|          113803|   53.1| C123|       S|\n",
            "+-----------+--------+------+--------------------+------+----+-----+-----+----------------+-------+-----+--------+\n",
            "only showing top 4 rows\n",
            "\n"
          ]
        }
      ]
    },
    {
      "cell_type": "markdown",
      "source": [
        "The output of the show() might look ugly, especially if there are a large number of columns in the dataframe. At this point, we might miss Pandas head(). There is an option to convert the Spark dataframe into the Pandas dataframe. But we have to be careful here. Usually, Spark is handling a large volume of data, and converting it to Pandas stores everything immediately to the memory. Which we should avoid for the large data. However, there is a way out. Please remember the lazy evaluation of the Spark transformation. We can transform the Spark dataframe by limit(n) to take only n number of rows and then convert that to the Pandas. toPandas() is an action."
      ],
      "metadata": {
        "id": "uN32Amtbida5"
      }
    },
    {
      "cell_type": "code",
      "source": [
        "df1.limit(5).toPandas()"
      ],
      "metadata": {
        "trusted": true,
        "colab": {
          "base_uri": "https://localhost:8080/",
          "height": 310
        },
        "id": "mZDOvZ_nida5",
        "outputId": "398c06a7-1c74-41e7-c2f4-6d7f9db2c22b"
      },
      "execution_count": 7,
      "outputs": [
        {
          "output_type": "execute_result",
          "data": {
            "text/plain": [
              "   PassengerId  Survived  Pclass  \\\n",
              "0            1         0       3   \n",
              "1            2         1       1   \n",
              "2            3         1       3   \n",
              "3            4         1       1   \n",
              "4            5         0       3   \n",
              "\n",
              "                                                Name     Sex   Age  SibSp  \\\n",
              "0                            Braund, Mr. Owen Harris    male  22.0      1   \n",
              "1  Cumings, Mrs. John Bradley (Florence Briggs Th...  female  38.0      1   \n",
              "2                             Heikkinen, Miss. Laina  female  26.0      0   \n",
              "3       Futrelle, Mrs. Jacques Heath (Lily May Peel)  female  35.0      1   \n",
              "4                           Allen, Mr. William Henry    male  35.0      0   \n",
              "\n",
              "   Parch            Ticket     Fare Cabin Embarked  \n",
              "0      0         A/5 21171   7.2500  None        S  \n",
              "1      0          PC 17599  71.2833   C85        C  \n",
              "2      0  STON/O2. 3101282   7.9250  None        S  \n",
              "3      0            113803  53.1000  C123        S  \n",
              "4      0            373450   8.0500  None        S  "
            ],
            "text/html": [
              "\n",
              "  <div id=\"df-1937ef1d-3434-4bb0-826d-0ec5d9027dfa\" class=\"colab-df-container\">\n",
              "    <div>\n",
              "<style scoped>\n",
              "    .dataframe tbody tr th:only-of-type {\n",
              "        vertical-align: middle;\n",
              "    }\n",
              "\n",
              "    .dataframe tbody tr th {\n",
              "        vertical-align: top;\n",
              "    }\n",
              "\n",
              "    .dataframe thead th {\n",
              "        text-align: right;\n",
              "    }\n",
              "</style>\n",
              "<table border=\"1\" class=\"dataframe\">\n",
              "  <thead>\n",
              "    <tr style=\"text-align: right;\">\n",
              "      <th></th>\n",
              "      <th>PassengerId</th>\n",
              "      <th>Survived</th>\n",
              "      <th>Pclass</th>\n",
              "      <th>Name</th>\n",
              "      <th>Sex</th>\n",
              "      <th>Age</th>\n",
              "      <th>SibSp</th>\n",
              "      <th>Parch</th>\n",
              "      <th>Ticket</th>\n",
              "      <th>Fare</th>\n",
              "      <th>Cabin</th>\n",
              "      <th>Embarked</th>\n",
              "    </tr>\n",
              "  </thead>\n",
              "  <tbody>\n",
              "    <tr>\n",
              "      <th>0</th>\n",
              "      <td>1</td>\n",
              "      <td>0</td>\n",
              "      <td>3</td>\n",
              "      <td>Braund, Mr. Owen Harris</td>\n",
              "      <td>male</td>\n",
              "      <td>22.0</td>\n",
              "      <td>1</td>\n",
              "      <td>0</td>\n",
              "      <td>A/5 21171</td>\n",
              "      <td>7.2500</td>\n",
              "      <td>None</td>\n",
              "      <td>S</td>\n",
              "    </tr>\n",
              "    <tr>\n",
              "      <th>1</th>\n",
              "      <td>2</td>\n",
              "      <td>1</td>\n",
              "      <td>1</td>\n",
              "      <td>Cumings, Mrs. John Bradley (Florence Briggs Th...</td>\n",
              "      <td>female</td>\n",
              "      <td>38.0</td>\n",
              "      <td>1</td>\n",
              "      <td>0</td>\n",
              "      <td>PC 17599</td>\n",
              "      <td>71.2833</td>\n",
              "      <td>C85</td>\n",
              "      <td>C</td>\n",
              "    </tr>\n",
              "    <tr>\n",
              "      <th>2</th>\n",
              "      <td>3</td>\n",
              "      <td>1</td>\n",
              "      <td>3</td>\n",
              "      <td>Heikkinen, Miss. Laina</td>\n",
              "      <td>female</td>\n",
              "      <td>26.0</td>\n",
              "      <td>0</td>\n",
              "      <td>0</td>\n",
              "      <td>STON/O2. 3101282</td>\n",
              "      <td>7.9250</td>\n",
              "      <td>None</td>\n",
              "      <td>S</td>\n",
              "    </tr>\n",
              "    <tr>\n",
              "      <th>3</th>\n",
              "      <td>4</td>\n",
              "      <td>1</td>\n",
              "      <td>1</td>\n",
              "      <td>Futrelle, Mrs. Jacques Heath (Lily May Peel)</td>\n",
              "      <td>female</td>\n",
              "      <td>35.0</td>\n",
              "      <td>1</td>\n",
              "      <td>0</td>\n",
              "      <td>113803</td>\n",
              "      <td>53.1000</td>\n",
              "      <td>C123</td>\n",
              "      <td>S</td>\n",
              "    </tr>\n",
              "    <tr>\n",
              "      <th>4</th>\n",
              "      <td>5</td>\n",
              "      <td>0</td>\n",
              "      <td>3</td>\n",
              "      <td>Allen, Mr. William Henry</td>\n",
              "      <td>male</td>\n",
              "      <td>35.0</td>\n",
              "      <td>0</td>\n",
              "      <td>0</td>\n",
              "      <td>373450</td>\n",
              "      <td>8.0500</td>\n",
              "      <td>None</td>\n",
              "      <td>S</td>\n",
              "    </tr>\n",
              "  </tbody>\n",
              "</table>\n",
              "</div>\n",
              "    <div class=\"colab-df-buttons\">\n",
              "\n",
              "  <div class=\"colab-df-container\">\n",
              "    <button class=\"colab-df-convert\" onclick=\"convertToInteractive('df-1937ef1d-3434-4bb0-826d-0ec5d9027dfa')\"\n",
              "            title=\"Convert this dataframe to an interactive table.\"\n",
              "            style=\"display:none;\">\n",
              "\n",
              "  <svg xmlns=\"http://www.w3.org/2000/svg\" height=\"24px\" viewBox=\"0 -960 960 960\">\n",
              "    <path d=\"M120-120v-720h720v720H120Zm60-500h600v-160H180v160Zm220 220h160v-160H400v160Zm0 220h160v-160H400v160ZM180-400h160v-160H180v160Zm440 0h160v-160H620v160ZM180-180h160v-160H180v160Zm440 0h160v-160H620v160Z\"/>\n",
              "  </svg>\n",
              "    </button>\n",
              "\n",
              "  <style>\n",
              "    .colab-df-container {\n",
              "      display:flex;\n",
              "      gap: 12px;\n",
              "    }\n",
              "\n",
              "    .colab-df-convert {\n",
              "      background-color: #E8F0FE;\n",
              "      border: none;\n",
              "      border-radius: 50%;\n",
              "      cursor: pointer;\n",
              "      display: none;\n",
              "      fill: #1967D2;\n",
              "      height: 32px;\n",
              "      padding: 0 0 0 0;\n",
              "      width: 32px;\n",
              "    }\n",
              "\n",
              "    .colab-df-convert:hover {\n",
              "      background-color: #E2EBFA;\n",
              "      box-shadow: 0px 1px 2px rgba(60, 64, 67, 0.3), 0px 1px 3px 1px rgba(60, 64, 67, 0.15);\n",
              "      fill: #174EA6;\n",
              "    }\n",
              "\n",
              "    .colab-df-buttons div {\n",
              "      margin-bottom: 4px;\n",
              "    }\n",
              "\n",
              "    [theme=dark] .colab-df-convert {\n",
              "      background-color: #3B4455;\n",
              "      fill: #D2E3FC;\n",
              "    }\n",
              "\n",
              "    [theme=dark] .colab-df-convert:hover {\n",
              "      background-color: #434B5C;\n",
              "      box-shadow: 0px 1px 3px 1px rgba(0, 0, 0, 0.15);\n",
              "      filter: drop-shadow(0px 1px 2px rgba(0, 0, 0, 0.3));\n",
              "      fill: #FFFFFF;\n",
              "    }\n",
              "  </style>\n",
              "\n",
              "    <script>\n",
              "      const buttonEl =\n",
              "        document.querySelector('#df-1937ef1d-3434-4bb0-826d-0ec5d9027dfa button.colab-df-convert');\n",
              "      buttonEl.style.display =\n",
              "        google.colab.kernel.accessAllowed ? 'block' : 'none';\n",
              "\n",
              "      async function convertToInteractive(key) {\n",
              "        const element = document.querySelector('#df-1937ef1d-3434-4bb0-826d-0ec5d9027dfa');\n",
              "        const dataTable =\n",
              "          await google.colab.kernel.invokeFunction('convertToInteractive',\n",
              "                                                    [key], {});\n",
              "        if (!dataTable) return;\n",
              "\n",
              "        const docLinkHtml = 'Like what you see? Visit the ' +\n",
              "          '<a target=\"_blank\" href=https://colab.research.google.com/notebooks/data_table.ipynb>data table notebook</a>'\n",
              "          + ' to learn more about interactive tables.';\n",
              "        element.innerHTML = '';\n",
              "        dataTable['output_type'] = 'display_data';\n",
              "        await google.colab.output.renderOutput(dataTable, element);\n",
              "        const docLink = document.createElement('div');\n",
              "        docLink.innerHTML = docLinkHtml;\n",
              "        element.appendChild(docLink);\n",
              "      }\n",
              "    </script>\n",
              "  </div>\n",
              "\n",
              "\n",
              "<div id=\"df-490a467d-c96e-41d1-9a1c-b796a58ff79a\">\n",
              "  <button class=\"colab-df-quickchart\" onclick=\"quickchart('df-490a467d-c96e-41d1-9a1c-b796a58ff79a')\"\n",
              "            title=\"Suggest charts.\"\n",
              "            style=\"display:none;\">\n",
              "\n",
              "<svg xmlns=\"http://www.w3.org/2000/svg\" height=\"24px\"viewBox=\"0 0 24 24\"\n",
              "     width=\"24px\">\n",
              "    <g>\n",
              "        <path d=\"M19 3H5c-1.1 0-2 .9-2 2v14c0 1.1.9 2 2 2h14c1.1 0 2-.9 2-2V5c0-1.1-.9-2-2-2zM9 17H7v-7h2v7zm4 0h-2V7h2v10zm4 0h-2v-4h2v4z\"/>\n",
              "    </g>\n",
              "</svg>\n",
              "  </button>\n",
              "\n",
              "<style>\n",
              "  .colab-df-quickchart {\n",
              "      --bg-color: #E8F0FE;\n",
              "      --fill-color: #1967D2;\n",
              "      --hover-bg-color: #E2EBFA;\n",
              "      --hover-fill-color: #174EA6;\n",
              "      --disabled-fill-color: #AAA;\n",
              "      --disabled-bg-color: #DDD;\n",
              "  }\n",
              "\n",
              "  [theme=dark] .colab-df-quickchart {\n",
              "      --bg-color: #3B4455;\n",
              "      --fill-color: #D2E3FC;\n",
              "      --hover-bg-color: #434B5C;\n",
              "      --hover-fill-color: #FFFFFF;\n",
              "      --disabled-bg-color: #3B4455;\n",
              "      --disabled-fill-color: #666;\n",
              "  }\n",
              "\n",
              "  .colab-df-quickchart {\n",
              "    background-color: var(--bg-color);\n",
              "    border: none;\n",
              "    border-radius: 50%;\n",
              "    cursor: pointer;\n",
              "    display: none;\n",
              "    fill: var(--fill-color);\n",
              "    height: 32px;\n",
              "    padding: 0;\n",
              "    width: 32px;\n",
              "  }\n",
              "\n",
              "  .colab-df-quickchart:hover {\n",
              "    background-color: var(--hover-bg-color);\n",
              "    box-shadow: 0 1px 2px rgba(60, 64, 67, 0.3), 0 1px 3px 1px rgba(60, 64, 67, 0.15);\n",
              "    fill: var(--button-hover-fill-color);\n",
              "  }\n",
              "\n",
              "  .colab-df-quickchart-complete:disabled,\n",
              "  .colab-df-quickchart-complete:disabled:hover {\n",
              "    background-color: var(--disabled-bg-color);\n",
              "    fill: var(--disabled-fill-color);\n",
              "    box-shadow: none;\n",
              "  }\n",
              "\n",
              "  .colab-df-spinner {\n",
              "    border: 2px solid var(--fill-color);\n",
              "    border-color: transparent;\n",
              "    border-bottom-color: var(--fill-color);\n",
              "    animation:\n",
              "      spin 1s steps(1) infinite;\n",
              "  }\n",
              "\n",
              "  @keyframes spin {\n",
              "    0% {\n",
              "      border-color: transparent;\n",
              "      border-bottom-color: var(--fill-color);\n",
              "      border-left-color: var(--fill-color);\n",
              "    }\n",
              "    20% {\n",
              "      border-color: transparent;\n",
              "      border-left-color: var(--fill-color);\n",
              "      border-top-color: var(--fill-color);\n",
              "    }\n",
              "    30% {\n",
              "      border-color: transparent;\n",
              "      border-left-color: var(--fill-color);\n",
              "      border-top-color: var(--fill-color);\n",
              "      border-right-color: var(--fill-color);\n",
              "    }\n",
              "    40% {\n",
              "      border-color: transparent;\n",
              "      border-right-color: var(--fill-color);\n",
              "      border-top-color: var(--fill-color);\n",
              "    }\n",
              "    60% {\n",
              "      border-color: transparent;\n",
              "      border-right-color: var(--fill-color);\n",
              "    }\n",
              "    80% {\n",
              "      border-color: transparent;\n",
              "      border-right-color: var(--fill-color);\n",
              "      border-bottom-color: var(--fill-color);\n",
              "    }\n",
              "    90% {\n",
              "      border-color: transparent;\n",
              "      border-bottom-color: var(--fill-color);\n",
              "    }\n",
              "  }\n",
              "</style>\n",
              "\n",
              "  <script>\n",
              "    async function quickchart(key) {\n",
              "      const quickchartButtonEl =\n",
              "        document.querySelector('#' + key + ' button');\n",
              "      quickchartButtonEl.disabled = true;  // To prevent multiple clicks.\n",
              "      quickchartButtonEl.classList.add('colab-df-spinner');\n",
              "      try {\n",
              "        const charts = await google.colab.kernel.invokeFunction(\n",
              "            'suggestCharts', [key], {});\n",
              "      } catch (error) {\n",
              "        console.error('Error during call to suggestCharts:', error);\n",
              "      }\n",
              "      quickchartButtonEl.classList.remove('colab-df-spinner');\n",
              "      quickchartButtonEl.classList.add('colab-df-quickchart-complete');\n",
              "    }\n",
              "    (() => {\n",
              "      let quickchartButtonEl =\n",
              "        document.querySelector('#df-490a467d-c96e-41d1-9a1c-b796a58ff79a button');\n",
              "      quickchartButtonEl.style.display =\n",
              "        google.colab.kernel.accessAllowed ? 'block' : 'none';\n",
              "    })();\n",
              "  </script>\n",
              "</div>\n",
              "    </div>\n",
              "  </div>\n"
            ]
          },
          "metadata": {},
          "execution_count": 7
        }
      ]
    },
    {
      "cell_type": "markdown",
      "source": [
        "Alternatively we can select() a few columns and inspect within Spark. select() is an example of Spark transformation. Therefore that step is evaluated lazily. Hence we pass a Spark action show() at the end to print the result."
      ],
      "metadata": {
        "id": "MYoDwEOlida5"
      }
    },
    {
      "cell_type": "code",
      "source": [
        "df1.select('Survived', 'Pclass', 'Age', 'Fare').show(4)"
      ],
      "metadata": {
        "trusted": true,
        "colab": {
          "base_uri": "https://localhost:8080/"
        },
        "id": "ax0ARIy9ida5",
        "outputId": "aa2e3575-f117-4b0b-8788-d05f23ae2e05"
      },
      "execution_count": 8,
      "outputs": [
        {
          "output_type": "stream",
          "name": "stdout",
          "text": [
            "+--------+------+----+-------+\n",
            "|Survived|Pclass| Age|   Fare|\n",
            "+--------+------+----+-------+\n",
            "|       0|     3|22.0|   7.25|\n",
            "|       1|     1|38.0|71.2833|\n",
            "|       1|     3|26.0|  7.925|\n",
            "|       1|     1|35.0|   53.1|\n",
            "+--------+------+----+-------+\n",
            "only showing top 4 rows\n",
            "\n"
          ]
        }
      ]
    },
    {
      "cell_type": "markdown",
      "source": [
        "Spark has describe() method similar to the Pandas. But I find a summary() method more versatile than describe(). Please check [here](https://github.com/roshankoirala/pySpark_tutorial/blob/master/Exploratory_data_analysis_with_pySpark.ipynb) for detail. Both describe() and summary() are Spark trasnformations. Therefore, they do not produce result immediately. Hence we need show() at the end."
      ],
      "metadata": {
        "id": "FVgkja-cida5"
      }
    },
    {
      "cell_type": "code",
      "source": [
        "df1.select('Survived', 'Pclass', 'Age', 'Fare').summary().show()"
      ],
      "metadata": {
        "trusted": true,
        "colab": {
          "base_uri": "https://localhost:8080/"
        },
        "id": "JmoDRlRAida6",
        "outputId": "7d9abff1-21a3-461b-b9aa-5e2b30e620d1"
      },
      "execution_count": 9,
      "outputs": [
        {
          "output_type": "stream",
          "name": "stdout",
          "text": [
            "+-------+-------------------+------------------+------------------+-----------------+\n",
            "|summary|           Survived|            Pclass|               Age|             Fare|\n",
            "+-------+-------------------+------------------+------------------+-----------------+\n",
            "|  count|                891|               891|               714|              891|\n",
            "|   mean| 0.3838383838383838| 2.308641975308642| 29.69911764705882| 32.2042079685746|\n",
            "| stddev|0.48659245426485753|0.8360712409770491|14.526497332334035|49.69342859718089|\n",
            "|    min|                  0|                 1|              0.42|              0.0|\n",
            "|    25%|                  0|                 2|              20.0|           7.8958|\n",
            "|    50%|                  0|                 3|              28.0|          14.4542|\n",
            "|    75%|                  1|                 3|              38.0|             31.0|\n",
            "|    max|                  1|                 3|              80.0|         512.3292|\n",
            "+-------+-------------------+------------------+------------------+-----------------+\n",
            "\n"
          ]
        }
      ]
    },
    {
      "cell_type": "markdown",
      "source": [
        "count() acts differently in Pandas and Spark. In Spark, it gives the total number of rows in the dataframe. There is no direct way to find the shape of the dataframe. We can use the following trick.  Here count and columns are action."
      ],
      "metadata": {
        "id": "N558an0Wida6"
      }
    },
    {
      "cell_type": "code",
      "source": [
        "print('Number of rows: \\t', df1.count())\n",
        "print('Number of columns: \\t', len(df1.columns))"
      ],
      "metadata": {
        "trusted": true,
        "colab": {
          "base_uri": "https://localhost:8080/"
        },
        "id": "xc90N8wfida6",
        "outputId": "26b1a8a2-3c38-404a-8bb8-ed677be1db74"
      },
      "execution_count": 10,
      "outputs": [
        {
          "output_type": "stream",
          "name": "stdout",
          "text": [
            "Number of rows: \t 891\n",
            "Number of columns: \t 12\n"
          ]
        }
      ]
    },
    {
      "cell_type": "markdown",
      "source": [
        "# Exploratory Data Analysis\n",
        "\n",
        "### About the data visualization in the Spark  \n",
        "\n",
        "There is no native visualization library in Spark. But we can do the lazy transformation on the dataframe, extract the necessary numbers, and make the visualizations out of that. The implementation of this idea can be found [here](https://github.com/roshankoirala/pySpark_tutorial/blob/master/Data_visualization_in_pySpark%20.ipynb).\n",
        "\n",
        "There are options to make visualization by extending other libraries though. However, we do not go to that route here. We will focus on tabular visualization. Tabular visualization is not a bad option.\n",
        "\n",
        "### How many people survived?\n",
        "\n",
        "We can use groupby() and count() transformations to do that. Both are lazy transformation. Again remember that the Spark transformation alone don't evaluate things unless we call an action upon them. Here show() is an action to print the results."
      ],
      "metadata": {
        "id": "1l4lRTgQida6"
      }
    },
    {
      "cell_type": "code",
      "source": [
        "df1.groupBy('Survived').count().show()"
      ],
      "metadata": {
        "trusted": true,
        "colab": {
          "base_uri": "https://localhost:8080/"
        },
        "id": "l8vaa2Laida6",
        "outputId": "dfe9d67e-2262-4277-fa49-556eeee2adb6"
      },
      "execution_count": 11,
      "outputs": [
        {
          "output_type": "stream",
          "name": "stdout",
          "text": [
            "+--------+-----+\n",
            "|Survived|count|\n",
            "+--------+-----+\n",
            "|       1|  342|\n",
            "|       0|  549|\n",
            "+--------+-----+\n",
            "\n"
          ]
        }
      ]
    },
    {
      "cell_type": "markdown",
      "source": [
        "### Continious variables\n",
        "\n",
        "Among the features, Fare and Age are the continuous variables (non-categorical). We can inspect them closely here. Our interest would be to find average fare and age. We already use summary() to calculate mean. If we just want mean we can either to summary('mean') or we can also directly call mean() and select columns inside that. Also in summary we can pass multiple arguments like df.summary('mean', 'stddev') and so on. Again please refer to [this](https://github.com/roshankoirala/pySpark_tutorial/blob/master/Exploratory_data_analysis_with_pySpark.ipynb) link for detail. Here groupby() and mean() are Spark transformation. Now you probably started to figure out which is transformation and which is action. I will stop iterating that in every single case now on.\n",
        "\n",
        "Passenger paying more money for the fair is likely to survive than those paying less. This variable might have collinearity with the passenger class that we investigate later. Age seems to be not that important for survival compared to fare."
      ],
      "metadata": {
        "id": "Rotyc5qoida6"
      }
    },
    {
      "cell_type": "code",
      "source": [
        "df1.groupBy('Survived').mean('Fare', 'Age').show()"
      ],
      "metadata": {
        "trusted": true,
        "colab": {
          "base_uri": "https://localhost:8080/"
        },
        "id": "-D1H1KsPida6",
        "outputId": "3fcf2f34-bfda-4220-c019-48fd5265132b"
      },
      "execution_count": 12,
      "outputs": [
        {
          "output_type": "stream",
          "name": "stdout",
          "text": [
            "+--------+------------------+------------------+\n",
            "|Survived|         avg(Fare)|          avg(Age)|\n",
            "+--------+------------------+------------------+\n",
            "|       1| 48.39540760233917|28.343689655172415|\n",
            "|       0|22.117886885245877| 30.62617924528302|\n",
            "+--------+------------------+------------------+\n",
            "\n"
          ]
        }
      ]
    },
    {
      "cell_type": "markdown",
      "source": [
        "### Categorical variables\n",
        "\n",
        "Here we see how each of the categorical variables has affected the survival of the passenger. Spark dataframe also has a pivot() method very similar to the Pandas dataframe to perform this task.\n",
        "\n",
        "Below we see that sex is an (probably the most) important factor for survival. The survival ratio of the female is much higher than that of male."
      ],
      "metadata": {
        "id": "QutisqI3ida6"
      }
    },
    {
      "cell_type": "code",
      "source": [
        "df1.groupBy('Survived').pivot('Sex').count().show()"
      ],
      "metadata": {
        "trusted": true,
        "colab": {
          "base_uri": "https://localhost:8080/"
        },
        "id": "0PUkFgWkida6",
        "outputId": "53ea3da9-f20d-4473-8de1-3f4616312b1f"
      },
      "execution_count": 13,
      "outputs": [
        {
          "output_type": "stream",
          "name": "stdout",
          "text": [
            "+--------+------+----+\n",
            "|Survived|female|male|\n",
            "+--------+------+----+\n",
            "|       1|   233| 109|\n",
            "|       0|    81| 468|\n",
            "+--------+------+----+\n",
            "\n"
          ]
        }
      ]
    },
    {
      "cell_type": "markdown",
      "source": [
        "Similarly, the first-class passengers are more likely to survive than the second class. And the third class passengers had very hard luck."
      ],
      "metadata": {
        "id": "x-Do_O7Yida7"
      }
    },
    {
      "cell_type": "code",
      "source": [
        "df1.groupBy('Survived').pivot('Pclass').count().show()"
      ],
      "metadata": {
        "trusted": true,
        "colab": {
          "base_uri": "https://localhost:8080/"
        },
        "id": "Zosp3cyDida7",
        "outputId": "7e715c34-138d-4fac-edc0-a5716a5561ba"
      },
      "execution_count": 14,
      "outputs": [
        {
          "output_type": "stream",
          "name": "stdout",
          "text": [
            "+--------+---+---+---+\n",
            "|Survived|  1|  2|  3|\n",
            "+--------+---+---+---+\n",
            "|       1|136| 87|119|\n",
            "|       0| 80| 97|372|\n",
            "+--------+---+---+---+\n",
            "\n"
          ]
        }
      ]
    },
    {
      "cell_type": "markdown",
      "source": [
        "The number of siblings and the number of parents also play some role in their survival. The large family is less likely to survive. Similarly, the person with no companion is also less likely to survive.\n"
      ],
      "metadata": {
        "id": "Wv0qCYKNida7"
      }
    },
    {
      "cell_type": "code",
      "source": [
        "df1.groupBy('Survived').pivot('SibSp').count().show()"
      ],
      "metadata": {
        "trusted": true,
        "colab": {
          "base_uri": "https://localhost:8080/"
        },
        "id": "0PxWZZMmida7",
        "outputId": "28940e49-b96a-4578-8bf0-58101676980c"
      },
      "execution_count": 15,
      "outputs": [
        {
          "output_type": "stream",
          "name": "stdout",
          "text": [
            "+--------+---+---+---+---+---+----+----+\n",
            "|Survived|  0|  1|  2|  3|  4|   5|   8|\n",
            "+--------+---+---+---+---+---+----+----+\n",
            "|       1|210|112| 13|  4|  3|NULL|NULL|\n",
            "|       0|398| 97| 15| 12| 15|   5|   7|\n",
            "+--------+---+---+---+---+---+----+----+\n",
            "\n"
          ]
        }
      ]
    },
    {
      "cell_type": "code",
      "source": [
        "df1.groupBy('Survived').pivot('Parch').count().show()"
      ],
      "metadata": {
        "trusted": true,
        "colab": {
          "base_uri": "https://localhost:8080/"
        },
        "id": "OxT30Mawida7",
        "outputId": "c73654ba-18c3-4ea1-eb9e-79db6e126d36"
      },
      "execution_count": 16,
      "outputs": [
        {
          "output_type": "stream",
          "name": "stdout",
          "text": [
            "+--------+---+---+---+---+----+---+----+\n",
            "|Survived|  0|  1|  2|  3|   4|  5|   6|\n",
            "+--------+---+---+---+---+----+---+----+\n",
            "|       1|233| 65| 40|  3|NULL|  1|NULL|\n",
            "|       0|445| 53| 40|  2|   4|  4|   1|\n",
            "+--------+---+---+---+---+----+---+----+\n",
            "\n"
          ]
        }
      ]
    },
    {
      "cell_type": "markdown",
      "source": [
        "Embark also seems to be important. But it can be collinear with Pclass and fair."
      ],
      "metadata": {
        "id": "aN_y1-n_ida7"
      }
    },
    {
      "cell_type": "code",
      "source": [
        "df1.groupBy('Survived').pivot('Embarked').count().show()"
      ],
      "metadata": {
        "trusted": true,
        "colab": {
          "base_uri": "https://localhost:8080/"
        },
        "id": "mwV5Xe0cida7",
        "outputId": "06954833-476c-42bc-d5c6-f3fdcc015976"
      },
      "execution_count": 17,
      "outputs": [
        {
          "output_type": "stream",
          "name": "stdout",
          "text": [
            "+--------+----+---+---+---+\n",
            "|Survived|null|  C|  Q|  S|\n",
            "+--------+----+---+---+---+\n",
            "|       1|   2| 93| 30|217|\n",
            "|       0|NULL| 75| 47|427|\n",
            "+--------+----+---+---+---+\n",
            "\n"
          ]
        }
      ]
    },
    {
      "cell_type": "markdown",
      "source": [
        "# Feature Engineering\n",
        "\n",
        "First, let's see if there are any missed data."
      ],
      "metadata": {
        "id": "TZwfahVoida7"
      }
    },
    {
      "cell_type": "code",
      "source": [
        "for col in df1.columns:\n",
        "    print(col.ljust(20), df1.filter(df1[col].isNull()).count())"
      ],
      "metadata": {
        "trusted": true,
        "colab": {
          "base_uri": "https://localhost:8080/"
        },
        "id": "DwJzvcabida7",
        "outputId": "b8c02f31-a5d0-4a0a-9530-1b17f27bfd82"
      },
      "execution_count": 18,
      "outputs": [
        {
          "output_type": "stream",
          "name": "stdout",
          "text": [
            "PassengerId          0\n",
            "Survived             0\n",
            "Pclass               0\n",
            "Name                 0\n",
            "Sex                  0\n",
            "Age                  177\n",
            "SibSp                0\n",
            "Parch                0\n",
            "Ticket               0\n",
            "Fare                 0\n",
            "Cabin                687\n",
            "Embarked             2\n"
          ]
        }
      ]
    },
    {
      "cell_type": "markdown",
      "source": [
        "There are many Cabin info is missing. The Cabin is related to Pclass. We will drop this feature. So no problem so far. There are, 2 entries of Embarked missing. We will fill it with the most repeated value S. Age of many people is missing. Again the simplest way to impute the age would be to fill by the average. We choose median for fare imputation. We use Spark's fillna() method to do that. For age we use more complex imputation method discussed below. For now I am just focusing on the train data. There can be different feature missing in the test data. Acutally there is missed fair in test data. So we calculate median fair also. We come to the test data at the end of this notebook."
      ],
      "metadata": {
        "id": "brUhwbS-ida7"
      }
    },
    {
      "cell_type": "code",
      "source": [
        "df1.select('Fare', 'Embarked').summary('mean', '50%', 'max').show()"
      ],
      "metadata": {
        "trusted": true,
        "colab": {
          "base_uri": "https://localhost:8080/"
        },
        "id": "RNWVhKJlida8",
        "outputId": "db71988f-2caf-4a8e-d6e1-18b82a0928d4"
      },
      "execution_count": 19,
      "outputs": [
        {
          "output_type": "stream",
          "name": "stdout",
          "text": [
            "+-------+----------------+--------+\n",
            "|summary|            Fare|Embarked|\n",
            "+-------+----------------+--------+\n",
            "|   mean|32.2042079685746|    NULL|\n",
            "|    50%|         14.4542|    NULL|\n",
            "|    max|        512.3292|       S|\n",
            "+-------+----------------+--------+\n",
            "\n"
          ]
        }
      ]
    },
    {
      "cell_type": "code",
      "source": [
        "df1 = df1.fillna({'Embarked': 'S', 'Fare':14.45})"
      ],
      "metadata": {
        "trusted": true,
        "id": "8tcD1rSSida8"
      },
      "execution_count": 20,
      "outputs": []
    },
    {
      "cell_type": "markdown",
      "source": [
        "The basic idea for age imputation is to take the title of the people from the name column and impute with the average age of the group of people with that title. Mrs tend to be older than Miss. This method originally appeared in [this](https://www.kaggle.com/konstantinmasich/titanic-0-82-0-83) kernel. We will present the pySpark version of the implementation.\n",
        "\n",
        "First, we extract the title using the regular expression and observe the count and average age with each of the titles."
      ],
      "metadata": {
        "id": "_Syahf--ida8"
      }
    },
    {
      "cell_type": "code",
      "source": [
        "df1 = df1.withColumn('Title', regexp_extract(df1['Name'],\\\n",
        "                '([A-Za-z]+)\\.', 1))\n",
        "\n",
        "df1.groupBy('Title').agg(count('Age'), mean('Age')).sort('count(Age)').show()"
      ],
      "metadata": {
        "trusted": true,
        "colab": {
          "base_uri": "https://localhost:8080/"
        },
        "id": "9DNHBvQxida8",
        "outputId": "d4d64b89-9677-4eb4-e8ff-13bcdfd30229"
      },
      "execution_count": 21,
      "outputs": [
        {
          "output_type": "stream",
          "name": "stdout",
          "text": [
            "+--------+----------+------------------+\n",
            "|   Title|count(Age)|          avg(Age)|\n",
            "+--------+----------+------------------+\n",
            "|     Don|         1|              40.0|\n",
            "|Countess|         1|              33.0|\n",
            "|    Lady|         1|              48.0|\n",
            "|     Mme|         1|              24.0|\n",
            "|    Capt|         1|              70.0|\n",
            "|     Sir|         1|              49.0|\n",
            "|Jonkheer|         1|              38.0|\n",
            "|      Ms|         1|              28.0|\n",
            "|     Col|         2|              58.0|\n",
            "|    Mlle|         2|              24.0|\n",
            "|   Major|         2|              48.5|\n",
            "|     Rev|         6|43.166666666666664|\n",
            "|      Dr|         6|              42.0|\n",
            "|  Master|        36| 4.574166666666667|\n",
            "|     Mrs|       108|35.898148148148145|\n",
            "|    Miss|       146|21.773972602739725|\n",
            "|      Mr|       398|32.368090452261306|\n",
            "+--------+----------+------------------+\n",
            "\n"
          ]
        }
      ]
    },
    {
      "cell_type": "markdown",
      "source": [
        "It is seen that Mr, Miss, and Mrs are highly repeated than other titles. The count of Master is not that high but its average age is much lower than others. So we keep those four titles and map other with one of the first three."
      ],
      "metadata": {
        "id": "Hj1QBK19idbA"
      }
    },
    {
      "cell_type": "code",
      "source": [
        "title_dic = {'Mr':'Mr', 'Miss':'Miss', 'Mrs':'Mrs', 'Master':'Master', \\\n",
        "             'Mlle': 'Miss', 'Major': 'Mr', 'Col': 'Mr', 'Sir': 'Mr',\\\n",
        "             'Don': 'Mr', 'Mme': 'Miss', 'Jonkheer': 'Mr', 'Lady': 'Mrs',\\\n",
        "             'Capt': 'Mr', 'Countess': 'Mrs', 'Ms': 'Miss', 'Dona': 'Mrs', \\\n",
        "             'Dr':'Mr', 'Rev':'Mr'}\n",
        "\n",
        "mapping = create_map([lit(x) for x in chain(*title_dic.items())])\n",
        "\n",
        "df1 = df1.withColumn('Title', mapping[df1['Title']])\n",
        "df1.groupBy('Title').mean('Age').show()"
      ],
      "metadata": {
        "trusted": true,
        "colab": {
          "base_uri": "https://localhost:8080/"
        },
        "id": "OjrdT05AidbA",
        "outputId": "cccd432c-5ef4-4b71-81e6-f6b5481a18b5"
      },
      "execution_count": 22,
      "outputs": [
        {
          "output_type": "stream",
          "name": "stdout",
          "text": [
            "+------+------------------+\n",
            "| Title|          avg(Age)|\n",
            "+------+------------------+\n",
            "|  Miss|             21.86|\n",
            "|Master| 4.574166666666667|\n",
            "|    Mr| 33.02272727272727|\n",
            "|   Mrs|35.981818181818184|\n",
            "+------+------------------+\n",
            "\n"
          ]
        }
      ]
    },
    {
      "cell_type": "markdown",
      "source": [
        "Now we create a function that imputes the age column with the average age of the group of people having the same name title as theirs. And use it to impute the ages in the next stage."
      ],
      "metadata": {
        "id": "b183dFpXidbA"
      }
    },
    {
      "cell_type": "code",
      "source": [
        "def age_imputer(df, title, age):\n",
        "\n",
        "    '''This function search for the null in 'Age' column\n",
        "    of the dataframe df. If there is null then it look\n",
        "    for the title and fill the 'Age' with age argument.\n",
        "    If 'Age' is not null, it will keep the same age.  '''\n",
        "\n",
        "    return df.withColumn('Age', \\\n",
        "                         when((df['Age'].isNull()) & (df['Title']==title), \\\n",
        "                              age).otherwise(df['Age']))"
      ],
      "metadata": {
        "trusted": true,
        "id": "tJ2c0kYTidbA"
      },
      "execution_count": 23,
      "outputs": []
    },
    {
      "cell_type": "code",
      "source": [
        "df1 = age_imputer(df1, 'Mr', 33.02)\n",
        "df1 = age_imputer(df1, 'Mrs', 35.98)\n",
        "df1 = age_imputer(df1, 'Miss', 21.86)\n",
        "df1 = age_imputer(df1, 'Master', 4.75)"
      ],
      "metadata": {
        "trusted": true,
        "id": "Kvnd0tTfidbA"
      },
      "execution_count": 24,
      "outputs": []
    },
    {
      "cell_type": "markdown",
      "source": [
        "### Creating a new column and dropping a column\n",
        "\n",
        "Now we create a new column called FamilySize combining Parch and SibSp. This API is significantly different in Spark than in Pandas. We use withColumn() method to do that. The first input in the method is a string of the name of the new column. This creates a new column and also keeps the old columns. We will drop the Parch and SibSp column afterward."
      ],
      "metadata": {
        "id": "aYMLOnQ7idbA"
      }
    },
    {
      "cell_type": "code",
      "source": [
        "df1 = df1.withColumn('FamilySize', df1['Parch'] + df1['SibSp']).\\\n",
        "            drop('Parch', 'SibSp')"
      ],
      "metadata": {
        "trusted": true,
        "id": "o-9bwCayidbA"
      },
      "execution_count": 25,
      "outputs": []
    },
    {
      "cell_type": "markdown",
      "source": [
        "And drop the unwanted columns."
      ],
      "metadata": {
        "id": "fKhadgaUidbA"
      }
    },
    {
      "cell_type": "code",
      "source": [
        "df1 = df1.drop('PassengerID', 'Cabin', 'Name', 'Ticket', 'Title')"
      ],
      "metadata": {
        "trusted": true,
        "id": "PkHAcM15idbB"
      },
      "execution_count": 26,
      "outputs": []
    },
    {
      "cell_type": "markdown",
      "source": [
        "Now we have a trimmed dataframe. For the small size dataframe show(n) method is not that worse than Pandas head(). See that Sex and Embarked columns are strings. We have to convert them to numeric categories."
      ],
      "metadata": {
        "id": "KkbiFX-UidbB"
      }
    },
    {
      "cell_type": "code",
      "source": [
        "df1.show(4)"
      ],
      "metadata": {
        "trusted": true,
        "colab": {
          "base_uri": "https://localhost:8080/"
        },
        "id": "MPefe3FVidbB",
        "outputId": "6154e5b6-7d88-4a8f-9d42-51c515254d51"
      },
      "execution_count": 27,
      "outputs": [
        {
          "output_type": "stream",
          "name": "stdout",
          "text": [
            "+--------+------+------+----+-------+--------+----------+\n",
            "|Survived|Pclass|   Sex| Age|   Fare|Embarked|FamilySize|\n",
            "+--------+------+------+----+-------+--------+----------+\n",
            "|       0|     3|  male|22.0|   7.25|       S|         1|\n",
            "|       1|     1|female|38.0|71.2833|       C|         1|\n",
            "|       1|     3|female|26.0|  7.925|       S|         0|\n",
            "|       1|     1|female|35.0|   53.1|       S|         1|\n",
            "+--------+------+------+----+-------+--------+----------+\n",
            "only showing top 4 rows\n",
            "\n"
          ]
        }
      ]
    },
    {
      "cell_type": "markdown",
      "source": [
        "And there is no missing value now."
      ],
      "metadata": {
        "id": "d_qN3w9aidbB"
      }
    },
    {
      "cell_type": "code",
      "source": [
        "for col in df1.columns:\n",
        "    print(col.ljust(20), df1.filter(df1[col].isNull()).count())"
      ],
      "metadata": {
        "trusted": true,
        "colab": {
          "base_uri": "https://localhost:8080/"
        },
        "id": "LWE0I_7CidbB",
        "outputId": "a30edfad-0ece-497d-d360-7145236735e0"
      },
      "execution_count": 28,
      "outputs": [
        {
          "output_type": "stream",
          "name": "stdout",
          "text": [
            "Survived             0\n",
            "Pclass               0\n",
            "Sex                  0\n",
            "Age                  0\n",
            "Fare                 0\n",
            "Embarked             0\n",
            "FamilySize           0\n"
          ]
        }
      ]
    },
    {
      "cell_type": "markdown",
      "source": [
        "# Model building\n",
        "\n",
        "So far we used Spark dataframe available in Spark SQL for EDA and feature engineering. Now we will use the Spark ML library to do ML tasks. We will cover the following ML task on Spark ML here:\n",
        "\n",
        "- StringIndexer: Converts string categories to numerical categories.\n",
        "- Vector Assembler: Special to Spark API. We will find detail shortly.\n",
        "- Logistic regression based on Ridge and Lasso regularization.\n",
        "- Tree-based ensemble methods: Random forest and Gradient boosting.\n",
        "- Pipeline: It is a big deal for big data.\n"
      ],
      "metadata": {
        "id": "wD7SIMNKidbB"
      }
    },
    {
      "cell_type": "code",
      "source": [
        "from pyspark.ml.feature import StringIndexer, VectorAssembler\n",
        "from pyspark.ml.classification import LogisticRegression,\\\n",
        "                    RandomForestClassifier, GBTClassifier\n",
        "from pyspark.ml.evaluation import MulticlassClassificationEvaluator\n",
        "from pyspark.ml import Pipeline\n",
        "from pyspark.ml.tuning import CrossValidator, ParamGridBuilder"
      ],
      "metadata": {
        "trusted": true,
        "id": "1jhYPGeRidbB"
      },
      "execution_count": 29,
      "outputs": []
    },
    {
      "cell_type": "markdown",
      "source": [
        "### String Indexer\n",
        "\n",
        "We will convert the Sex and Embarked column from string to numeric index. This creates a new column for numeric leaving the original intact. So we will remove them afterward."
      ],
      "metadata": {
        "id": "VLIJ0RDEidbB"
      }
    },
    {
      "cell_type": "code",
      "source": [
        "stringIndex = StringIndexer(inputCols=['Sex', 'Embarked'],\n",
        "                       outputCols=['SexNum', 'EmbNum'])\n",
        "\n",
        "stringIndex_model = stringIndex.fit(df1)\n",
        "\n",
        "df1_ = stringIndex_model.transform(df1).drop('Sex', 'Embarked')\n",
        "df1_.show(4)"
      ],
      "metadata": {
        "trusted": true,
        "colab": {
          "base_uri": "https://localhost:8080/"
        },
        "id": "6FB-_D5aidbB",
        "outputId": "c1436e0f-c604-4414-87cd-7d7c67112424"
      },
      "execution_count": 30,
      "outputs": [
        {
          "output_type": "stream",
          "name": "stdout",
          "text": [
            "+--------+------+----+-------+----------+------+------+\n",
            "|Survived|Pclass| Age|   Fare|FamilySize|SexNum|EmbNum|\n",
            "+--------+------+----+-------+----------+------+------+\n",
            "|       0|     3|22.0|   7.25|         1|   0.0|   0.0|\n",
            "|       1|     1|38.0|71.2833|         1|   1.0|   1.0|\n",
            "|       1|     3|26.0|  7.925|         0|   1.0|   0.0|\n",
            "|       1|     1|35.0|   53.1|         1|   1.0|   0.0|\n",
            "+--------+------+----+-------+----------+------+------+\n",
            "only showing top 4 rows\n",
            "\n"
          ]
        }
      ]
    },
    {
      "cell_type": "markdown",
      "source": [
        "### What is VectorAssembler?\n",
        "\n",
        "In Python's scikit learn API the model takes X and y variable in the separation matrix. The target y is usually a column vector and feature X is a matrix. scikit learn accepts X as a matrix of dataframe directly. But Spark API is different here. First, it requires X and y in a single matrix instead of two for the training data. It accepts X only in the prediction part as it should. And also X should be a vector in each row (see the output below) of the dataframe. In short, we can not directly feed the dataframe in the model. We should do what VectorAssembler does.\n",
        "\n",
        "In below, inputCols are the feature columns that are doing to be merged to make a vector in each row and outputCol is the name of the merged column. This is the column that Spark ML identifies as the feature column. It is a common practice to rename this as features as Spark ML identifies this name. If its name is different you have to mention column name when fitting model. Then we can select only the feature column and y column. See the illustration below."
      ],
      "metadata": {
        "id": "KCBljUMvidbC"
      }
    },
    {
      "cell_type": "code",
      "source": [
        "vec_asmbl = VectorAssembler(inputCols=df1_.columns[1:],\n",
        "                           outputCol='features')\n",
        "\n",
        "df1_ = vec_asmbl.transform(df1_).select('features', 'Survived')\n",
        "df1_.show(4, truncate=False)"
      ],
      "metadata": {
        "trusted": true,
        "colab": {
          "base_uri": "https://localhost:8080/"
        },
        "id": "8yq3iQguidbC",
        "outputId": "deddd08e-acba-4601-d67d-6f06ac747685"
      },
      "execution_count": 31,
      "outputs": [
        {
          "output_type": "stream",
          "name": "stdout",
          "text": [
            "+------------------------------+--------+\n",
            "|features                      |Survived|\n",
            "+------------------------------+--------+\n",
            "|[3.0,22.0,7.25,1.0,0.0,0.0]   |0       |\n",
            "|[1.0,38.0,71.2833,1.0,1.0,1.0]|1       |\n",
            "|[3.0,26.0,7.925,0.0,1.0,0.0]  |1       |\n",
            "|[1.0,35.0,53.1,1.0,1.0,0.0]   |1       |\n",
            "+------------------------------+--------+\n",
            "only showing top 4 rows\n",
            "\n"
          ]
        }
      ]
    },
    {
      "cell_type": "markdown",
      "source": [
        "Now we split the training data into the train and validation part. We split the data into a 7:3 ratio."
      ],
      "metadata": {
        "id": "Ctzf58oIidbC"
      }
    },
    {
      "cell_type": "code",
      "source": [
        "train_df, valid_df = df1_.randomSplit([0.7, 0.3])"
      ],
      "metadata": {
        "trusted": true,
        "id": "i7JEQmxpidbC"
      },
      "execution_count": 32,
      "outputs": []
    },
    {
      "cell_type": "code",
      "source": [
        "train_df.show(4, truncate=False)"
      ],
      "metadata": {
        "trusted": true,
        "colab": {
          "base_uri": "https://localhost:8080/"
        },
        "id": "ejcqoQQEidbC",
        "outputId": "600b44aa-998c-41ac-955f-96409b7996ea"
      },
      "execution_count": 33,
      "outputs": [
        {
          "output_type": "stream",
          "name": "stdout",
          "text": [
            "+---------------------+--------+\n",
            "|features             |Survived|\n",
            "+---------------------+--------+\n",
            "|(6,[0,1],[1.0,33.02])|0       |\n",
            "|(6,[0,1],[1.0,33.02])|0       |\n",
            "|(6,[0,1],[1.0,38.0]) |0       |\n",
            "|(6,[0,1],[1.0,39.0]) |0       |\n",
            "+---------------------+--------+\n",
            "only showing top 4 rows\n",
            "\n"
          ]
        }
      ]
    },
    {
      "cell_type": "markdown",
      "source": [
        "In this output form [0] in the bracket can be confusing. 5, [0] means five consecutive entries are zero. Split has not split the data column-wise.\n",
        "\n",
        "\n",
        "### Linear model\n",
        "\n",
        "We study logistic regression here. Spark ML offers elastic net regularization by default. The regularization function is given by\n",
        "\n",
        "$$ \\alpha (\\lambda | {\\bf{w}} |_1) + (1 - \\alpha) \\left(\\frac\\lambda2 |{\\bf{w}}|_2^2 \\right) $$\n",
        "\n",
        "In spark API $\\alpha$ is eleasticNetParam and $\\lambda$ is regParam. We can make our model Ridge by choosing $\\alpha=0$ and Lasso by choosing $\\alpha=1$.\n",
        "\n",
        "Please note that we need to specify the label column at this stage. It the feature column was named differently we had to specify that too here. In Spark, we fit() the model similar to scikit learn but unlike scikit learn we need to name the fitted instance (see comment below). Then we have unified function evaluate() and we call evaluation parameters like predict, accuracy on the evaluation instance.\n",
        "\n",
        "\n",
        "\n",
        "### Evaluation and metric\n",
        "\n",
        "\n",
        "First, we instantiate MulticlassClassificationEvaluator(). We need to specify the metric we want to evaluate at this stage, like metricName='accuracy' in our case. Fitting and evaluating models follow similarly from there. There is an alternative way to evaluate the accuracy scores in the linear model with the following set of commands:\n",
        "\n",
        "- model_name = model.fit(data)\n",
        "- pred = model_name.evaluate(data)\n",
        "- pred.accuracy\n",
        "\n",
        "In this method, there is no need to import MulticlassClassificationEvaluator(). But we stick with the first convention as it provides uniform API for all the models.\n",
        "\n",
        "\n",
        "At this point, I will remind the discussion of transformation and action again. All the machine learning models and preprocessing modules in Spark are transformations. They are evaluated lazily. When we ask for prediction of a model or score of the model then these are Spark action. For example MulticlassClassificationEvaluator() is a transformation while evaluate() is an action."
      ],
      "metadata": {
        "id": "jA1EyqXAidbC"
      }
    },
    {
      "cell_type": "code",
      "source": [
        "evaluator = MulticlassClassificationEvaluator(labelCol='Survived',\n",
        "                                          metricName='accuracy')"
      ],
      "metadata": {
        "trusted": true,
        "id": "Amg1FdyVidbD"
      },
      "execution_count": 34,
      "outputs": []
    },
    {
      "cell_type": "code",
      "source": [
        "ridge = LogisticRegression(labelCol='Survived',\n",
        "                        maxIter=100,\n",
        "                        elasticNetParam=0, # Ridge regression is choosen\n",
        "                        regParam=0.03)\n",
        "\n",
        "model = ridge.fit(train_df)\n",
        "pred = model.transform(valid_df)\n",
        "evaluator.evaluate(pred)"
      ],
      "metadata": {
        "trusted": true,
        "colab": {
          "base_uri": "https://localhost:8080/"
        },
        "id": "OzZ51gV-idbD",
        "outputId": "72459071-83f3-4ef4-892e-21ddf6ae22e2"
      },
      "execution_count": 35,
      "outputs": [
        {
          "output_type": "execute_result",
          "data": {
            "text/plain": [
              "0.8108108108108109"
            ]
          },
          "metadata": {},
          "execution_count": 35
        }
      ]
    },
    {
      "cell_type": "code",
      "source": [
        "lasso = LogisticRegression(labelCol='Survived',\n",
        "                           maxIter=100,\n",
        "                           elasticNetParam=1, # Lasso\n",
        "                           regParam=0.0003)\n",
        "\n",
        "model = lasso.fit(train_df)\n",
        "pred = model.transform(valid_df)\n",
        "evaluator.evaluate(pred)"
      ],
      "metadata": {
        "trusted": true,
        "colab": {
          "base_uri": "https://localhost:8080/"
        },
        "id": "cM2Zs7r_idbD",
        "outputId": "b6854631-f427-426e-d698-9c9081d5e58a"
      },
      "execution_count": 36,
      "outputs": [
        {
          "output_type": "execute_result",
          "data": {
            "text/plain": [
              "0.8185328185328186"
            ]
          },
          "metadata": {},
          "execution_count": 36
        }
      ]
    },
    {
      "cell_type": "markdown",
      "source": [
        "Generally, Lasso performs better than Ridge.\n",
        "\n",
        "\n",
        "### Ensemble Tree\n",
        "\n",
        "\n",
        "Currently Spark ML supports two types of ensemble algorithm. Random forest for bagging and gradient boosting for boosting. There is no stacking algorithm available in Spark ML yet. Here we will study both availabel ensemble method both are tree-based methods.\n"
      ],
      "metadata": {
        "id": "PTzlkLbpidbD"
      }
    },
    {
      "cell_type": "code",
      "source": [
        "rf = RandomForestClassifier(labelCol='Survived',\n",
        "                           numTrees=100, maxDepth=3)\n",
        "\n",
        "model = rf.fit(train_df)\n",
        "pred = model.transform(valid_df)\n",
        "evaluator.evaluate(pred)"
      ],
      "metadata": {
        "trusted": true,
        "colab": {
          "base_uri": "https://localhost:8080/"
        },
        "id": "NTlZE5vridbD",
        "outputId": "8fa763d4-d43a-4b0f-deb8-4f2634db2271"
      },
      "execution_count": 37,
      "outputs": [
        {
          "output_type": "execute_result",
          "data": {
            "text/plain": [
              "0.8223938223938224"
            ]
          },
          "metadata": {},
          "execution_count": 37
        }
      ]
    },
    {
      "cell_type": "code",
      "source": [
        "gb = GBTClassifier(labelCol='Survived', maxIter=75, maxDepth=3)\n",
        "\n",
        "model = gb.fit(train_df)\n",
        "pred = model.transform(valid_df)\n",
        "evaluator.evaluate(pred)"
      ],
      "metadata": {
        "trusted": true,
        "colab": {
          "base_uri": "https://localhost:8080/"
        },
        "id": "Qb6QEoAlidbD",
        "outputId": "2e8b7b19-1c88-481b-9ef0-1b9f402cec91"
      },
      "execution_count": 38,
      "outputs": [
        {
          "output_type": "execute_result",
          "data": {
            "text/plain": [
              "0.8455598455598455"
            ]
          },
          "metadata": {},
          "execution_count": 38
        }
      ]
    },
    {
      "cell_type": "markdown",
      "source": [
        "Generally, the tree-based ensemble method performs better than the linear model and among the tree-based model, gradient boosting performs better than random forest. We may test different method for our final submission.\n",
        "\n",
        "\n",
        "# Prediction\n",
        "\n",
        "Now we focus on making a prediction on test data and submit the result. We need to follow the exact same procedure for the test data for data cleaning. First we observer the header and see if there are any missing values in the test data."
      ],
      "metadata": {
        "id": "BeAsKW7HidbD"
      }
    },
    {
      "cell_type": "code",
      "source": [
        "df2.show(4)"
      ],
      "metadata": {
        "trusted": true,
        "colab": {
          "base_uri": "https://localhost:8080/"
        },
        "id": "zACpD3NaidbE",
        "outputId": "f45cb7a2-d7aa-44e9-b854-04671cf5d19f"
      },
      "execution_count": 39,
      "outputs": [
        {
          "output_type": "stream",
          "name": "stdout",
          "text": [
            "+-----------+------+--------------------+------+----+-----+-----+------+------+-----+--------+\n",
            "|PassengerId|Pclass|                Name|   Sex| Age|SibSp|Parch|Ticket|  Fare|Cabin|Embarked|\n",
            "+-----------+------+--------------------+------+----+-----+-----+------+------+-----+--------+\n",
            "|        892|     3|    Kelly, Mr. James|  male|34.5|    0|    0|330911|7.8292| NULL|       Q|\n",
            "|        893|     3|Wilkes, Mrs. Jame...|female|47.0|    1|    0|363272|   7.0| NULL|       S|\n",
            "|        894|     2|Myles, Mr. Thomas...|  male|62.0|    0|    0|240276|9.6875| NULL|       Q|\n",
            "|        895|     3|    Wirz, Mr. Albert|  male|27.0|    0|    0|315154|8.6625| NULL|       S|\n",
            "+-----------+------+--------------------+------+----+-----+-----+------+------+-----+--------+\n",
            "only showing top 4 rows\n",
            "\n"
          ]
        }
      ]
    },
    {
      "cell_type": "code",
      "source": [
        "for col in df2.columns:\n",
        "    print(col.ljust(20), df2.filter(df2[col].isNull()).count())"
      ],
      "metadata": {
        "trusted": true,
        "colab": {
          "base_uri": "https://localhost:8080/"
        },
        "id": "Kcp2K3tEidbE",
        "outputId": "a0c1d6cb-3a71-4490-f278-71dfc407561c"
      },
      "execution_count": 40,
      "outputs": [
        {
          "output_type": "stream",
          "name": "stdout",
          "text": [
            "PassengerId          0\n",
            "Pclass               0\n",
            "Name                 0\n",
            "Sex                  0\n",
            "Age                  86\n",
            "SibSp                0\n",
            "Parch                0\n",
            "Ticket               0\n",
            "Fare                 1\n",
            "Cabin                327\n",
            "Embarked             0\n"
          ]
        }
      ]
    },
    {
      "cell_type": "markdown",
      "source": [
        "Unlike the train data, there is no missing value in the Embarked column but there is one missing value for fair. And there are few ages missing. Now we fill the missing value by the median fair (of train data, not the test data). We ignore other missing values as we are dropping Cabin from our model. First, we will make a family size feature and drop the unwanted."
      ],
      "metadata": {
        "id": "2GNQWyRMidbE"
      }
    },
    {
      "cell_type": "code",
      "source": [
        "df2 = df2.fillna({'Embarked': 'S', 'Fare':14.45})\n",
        "df2 = df2.withColumn('FamilySize', df2['Parch'] + df2['SibSp']).\\\n",
        "            drop('Parch', 'SibSp')"
      ],
      "metadata": {
        "trusted": true,
        "id": "OJes0y5ZidbE"
      },
      "execution_count": 41,
      "outputs": []
    },
    {
      "cell_type": "markdown",
      "source": [
        "Now we come to imputing missing age in the test data. We need to follow exactly the same stages as we did in the train data. Only thing we need to be careful is that we are imputing the averages based on the training data but not the test data. You will identify these steps below."
      ],
      "metadata": {
        "id": "Y68TEHq_idbE"
      }
    },
    {
      "cell_type": "code",
      "source": [
        "df2 = df2.withColumn('Title', regexp_extract(df2['Name'],\\\n",
        "                '([A-Za-z]+)\\.', 1))\n",
        "\n",
        "df2 = df2.withColumn('Title', mapping[df2['Title']])\n",
        "\n",
        "df2.groupBy('Title').agg(count('Age'), mean('Age')).sort('count(Age)').show()"
      ],
      "metadata": {
        "trusted": true,
        "colab": {
          "base_uri": "https://localhost:8080/"
        },
        "id": "BuvjYZ3yidbE",
        "outputId": "6d52e1f0-1730-4b19-9da3-39fe00d89ced"
      },
      "execution_count": 42,
      "outputs": [
        {
          "output_type": "stream",
          "name": "stdout",
          "text": [
            "+------+----------+------------------+\n",
            "| Title|count(Age)|          avg(Age)|\n",
            "+------+----------+------------------+\n",
            "|Master|        17| 7.406470588235294|\n",
            "|   Mrs|        63|38.904761904761905|\n",
            "|  Miss|        64|21.774843750000002|\n",
            "|    Mr|       188|32.340425531914896|\n",
            "+------+----------+------------------+\n",
            "\n"
          ]
        }
      ]
    },
    {
      "cell_type": "code",
      "source": [
        "df2 = age_imputer(df2, 'Mr', 33.02)\n",
        "df2 = age_imputer(df2, 'Mrs', 35.98)\n",
        "df2 = age_imputer(df2, 'Miss', 21.86)\n",
        "df2 = age_imputer(df2, 'Master', 4.75)\n",
        "\n",
        "df2 = df2.drop('Cabin', 'Name', 'Ticket', 'Title') # keep PassengerId\n",
        "df2.show(4)"
      ],
      "metadata": {
        "trusted": true,
        "colab": {
          "base_uri": "https://localhost:8080/"
        },
        "id": "-KwbO6CiidbE",
        "outputId": "e273a8f5-779e-44a5-9582-d3356fc41a7d"
      },
      "execution_count": 43,
      "outputs": [
        {
          "output_type": "stream",
          "name": "stdout",
          "text": [
            "+-----------+------+------+----+------+--------+----------+\n",
            "|PassengerId|Pclass|   Sex| Age|  Fare|Embarked|FamilySize|\n",
            "+-----------+------+------+----+------+--------+----------+\n",
            "|        892|     3|  male|34.5|7.8292|       Q|         0|\n",
            "|        893|     3|female|47.0|   7.0|       S|         1|\n",
            "|        894|     2|  male|62.0|9.6875|       Q|         0|\n",
            "|        895|     3|  male|27.0|8.6625|       S|         0|\n",
            "+-----------+------+------+----+------+--------+----------+\n",
            "only showing top 4 rows\n",
            "\n"
          ]
        }
      ]
    },
    {
      "cell_type": "markdown",
      "source": [
        "Let's check the missing values again."
      ],
      "metadata": {
        "id": "gnx_gCQ3idbE"
      }
    },
    {
      "cell_type": "code",
      "source": [
        "for col in df2.columns:\n",
        "    print(col.ljust(20), df2.filter(df2[col].isNull()).count())"
      ],
      "metadata": {
        "trusted": true,
        "colab": {
          "base_uri": "https://localhost:8080/"
        },
        "id": "UCEJa5UwidbE",
        "outputId": "46bc01b1-56b8-4420-cec8-52259da2bc09"
      },
      "execution_count": 44,
      "outputs": [
        {
          "output_type": "stream",
          "name": "stdout",
          "text": [
            "PassengerId          0\n",
            "Pclass               0\n",
            "Sex                  0\n",
            "Age                  0\n",
            "Fare                 0\n",
            "Embarked             0\n",
            "FamilySize           0\n"
          ]
        }
      ]
    },
    {
      "cell_type": "markdown",
      "source": [
        "### Pipeline\n",
        "\n",
        "At this stage, it is worth introducing pipeline. In machine learning, it is common to run a sequence of algorithms to process and learn from data. In our example, we performed StringIndexer, VectorAssembler, and ML model. In other cases, the intermediate stages can be standardization, vectorization (for text processing), normalization, etc. These operations have to be performed on a specific order. Spark represents such a workflow as a Pipeline, which consists of a sequence of stages to be run in a specific order. Pipeline chains multiple Transformers and Estimators together to specify an ML workflow.\n",
        "\n",
        "Without the pipeline, we have to execute each stage, store the outcome, and feed into the next stage and evaluate, and so on. We prefer pipeline over this manual approach because of the following reasons:\n",
        "\n",
        "- The pipeline is less prone to mistake because the processes are automated.\n",
        "- In a production environment, this is the only way to do machine learning end to end.\n",
        "- Pipeline enhances the lazy evaluation. So this is a very natural choice in Spark. The pipeline is even more important for big data.\n",
        "\n",
        "\n",
        "### Grid-search and cross-validation\n",
        "\n",
        "Usually, there are many hyperparameters in a model of selection and some combination of those parameters might give the best result. Tuning them requires checking all possible combinations of the hyperparameter. Doing them manually is a tedious bookkeeping task. Fortunately, there is a grid search option available in Spark like in Sci-kit learn.\n",
        "\n",
        "When doing the grid search we need to validate the model using a separate dataset that was not used to train the data. So far we used customized validation set for comparison between different models. Usually, Spark would be handling very big data. For big data, the train-validation split can be sufficient.  For small datasets like this, however, cross-validation is preferred over the train-validation split. Coss-validation is available in Spark. We will use five-fold cross-validation for better model selection.\n",
        "\n",
        "We use CrossValidator available in Spark ML for the cross-validation. CrossValidator accepts estimatorParamMaps in which we can pass a grid search object built with ParamGridBuilder which is also available in Spark ML.\n",
        "\n",
        "We have chosen a random forest for our submission model. We test three hyperparameters from the random forest: number of trees, minimum information gain in each split. The tuning of the number of trees is not that tricky, higher is better. The only concern here is time it takes for a large number of trees taken. The depth of the tree should be tuned properly. Larger depth with some non-zero info gain can give the best performance. Other objects in the model pipeline have no hyperparameters. If they would we could make a grid using those as well.\n",
        "\n"
      ],
      "metadata": {
        "id": "lh20ndqnidbE"
      }
    },
    {
      "cell_type": "code",
      "source": [
        "pipeline_rf = Pipeline(stages=[stringIndex, vec_asmbl, rf])\n",
        "\n",
        "paramGrid = ParamGridBuilder().\\\n",
        "            addGrid(rf.maxDepth, [3, 4, 5]).\\\n",
        "            addGrid(rf.minInfoGain, [0., 0.01, 0.1]).\\\n",
        "            addGrid(rf.numTrees, [1000]).\\\n",
        "            build()\n",
        "\n",
        "selected_model = CrossValidator(estimator=pipeline_rf,\n",
        "                                estimatorParamMaps=paramGrid,\n",
        "                                evaluator=evaluator,\n",
        "                                numFolds=5)\n",
        "\n",
        "model_final = selected_model.fit(df1)\n",
        "pred_train = model_final.transform(df1)\n",
        "evaluator.evaluate(pred_train)"
      ],
      "metadata": {
        "trusted": true,
        "colab": {
          "base_uri": "https://localhost:8080/"
        },
        "id": "lsGkeNlgidbE",
        "outputId": "2d3838d8-1dc5-4539-a7df-100091cb5264"
      },
      "execution_count": 45,
      "outputs": [
        {
          "output_type": "execute_result",
          "data": {
            "text/plain": [
              "0.8507295173961841"
            ]
          },
          "metadata": {},
          "execution_count": 45
        }
      ]
    },
    {
      "cell_type": "markdown",
      "source": [
        "This is the in-sample accuracy which is generally higher than the out-sample accuracy."
      ],
      "metadata": {
        "id": "cPK5j9d3idbF"
      }
    },
    {
      "cell_type": "code",
      "source": [
        "pred_test = model_final.transform(df2)\n",
        "\n",
        "predictions = pred_test.select('PassengerId', 'prediction')\n",
        "predictions = predictions.\\\n",
        "                withColumn('Survived', predictions['prediction'].\\\n",
        "                cast('integer')).drop('prediction')\n",
        "predictions.show(5)"
      ],
      "metadata": {
        "trusted": true,
        "colab": {
          "base_uri": "https://localhost:8080/"
        },
        "id": "07qstN4sidbF",
        "outputId": "d83e1814-892e-4a2d-8929-755d18493416"
      },
      "execution_count": 46,
      "outputs": [
        {
          "output_type": "stream",
          "name": "stdout",
          "text": [
            "+-----------+--------+\n",
            "|PassengerId|Survived|\n",
            "+-----------+--------+\n",
            "|        892|       0|\n",
            "|        893|       0|\n",
            "|        894|       0|\n",
            "|        895|       0|\n",
            "|        896|       1|\n",
            "+-----------+--------+\n",
            "only showing top 5 rows\n",
            "\n"
          ]
        }
      ]
    },
    {
      "cell_type": "markdown",
      "source": [
        "The following is the method to read csv file in Spark. We can even read the csv file using Spark API. But there is some problem with that, especially Pandas can not read that csv and submission through kernel does not work for it. For this reason we change the submission file to pandas and make a submission.  "
      ],
      "metadata": {
        "id": "L57Wc3mRidbF"
      }
    },
    {
      "cell_type": "code",
      "source": [
        "# Writing csv file in Spark\n",
        "predictions.coalesce(1).write.csv('submission_file.csv', header=True)"
      ],
      "metadata": {
        "trusted": true,
        "id": "Cn14Qn30idbF"
      },
      "execution_count": 47,
      "outputs": []
    },
    {
      "cell_type": "code",
      "source": [
        "# Reading the saved file from spark\n",
        "spark.read.csv('submission_file.csv', header=True).show(4)"
      ],
      "metadata": {
        "trusted": true,
        "colab": {
          "base_uri": "https://localhost:8080/"
        },
        "id": "DgqWcWqvidbF",
        "outputId": "48947bb6-b871-4312-aca3-3683eec1d590"
      },
      "execution_count": 48,
      "outputs": [
        {
          "output_type": "stream",
          "name": "stdout",
          "text": [
            "+-----------+--------+\n",
            "|PassengerId|Survived|\n",
            "+-----------+--------+\n",
            "|        892|       0|\n",
            "|        893|       0|\n",
            "|        894|       0|\n",
            "|        895|       0|\n",
            "+-----------+--------+\n",
            "only showing top 4 rows\n",
            "\n"
          ]
        }
      ]
    },
    {
      "cell_type": "code",
      "source": [
        "# Writing csv file using Pandas\n",
        "predictions.toPandas().to_csv('submission.csv', index=False)"
      ],
      "metadata": {
        "trusted": true,
        "id": "CHHr9J40idbF"
      },
      "execution_count": 49,
      "outputs": []
    },
    {
      "cell_type": "code",
      "source": [
        "# Inspecting csv file in pandas\n",
        "import pandas as pd\n",
        "pd.read_csv('submission.csv').head()"
      ],
      "metadata": {
        "trusted": true,
        "colab": {
          "base_uri": "https://localhost:8080/",
          "height": 206
        },
        "id": "khXaOA0_idbF",
        "outputId": "971b6b04-0f50-44c8-a59c-1dcd76c16351"
      },
      "execution_count": 50,
      "outputs": [
        {
          "output_type": "execute_result",
          "data": {
            "text/plain": [
              "   PassengerId  Survived\n",
              "0          892         0\n",
              "1          893         0\n",
              "2          894         0\n",
              "3          895         0\n",
              "4          896         1"
            ],
            "text/html": [
              "\n",
              "  <div id=\"df-3b280fa5-831b-4637-83da-cd6f6c15700b\" class=\"colab-df-container\">\n",
              "    <div>\n",
              "<style scoped>\n",
              "    .dataframe tbody tr th:only-of-type {\n",
              "        vertical-align: middle;\n",
              "    }\n",
              "\n",
              "    .dataframe tbody tr th {\n",
              "        vertical-align: top;\n",
              "    }\n",
              "\n",
              "    .dataframe thead th {\n",
              "        text-align: right;\n",
              "    }\n",
              "</style>\n",
              "<table border=\"1\" class=\"dataframe\">\n",
              "  <thead>\n",
              "    <tr style=\"text-align: right;\">\n",
              "      <th></th>\n",
              "      <th>PassengerId</th>\n",
              "      <th>Survived</th>\n",
              "    </tr>\n",
              "  </thead>\n",
              "  <tbody>\n",
              "    <tr>\n",
              "      <th>0</th>\n",
              "      <td>892</td>\n",
              "      <td>0</td>\n",
              "    </tr>\n",
              "    <tr>\n",
              "      <th>1</th>\n",
              "      <td>893</td>\n",
              "      <td>0</td>\n",
              "    </tr>\n",
              "    <tr>\n",
              "      <th>2</th>\n",
              "      <td>894</td>\n",
              "      <td>0</td>\n",
              "    </tr>\n",
              "    <tr>\n",
              "      <th>3</th>\n",
              "      <td>895</td>\n",
              "      <td>0</td>\n",
              "    </tr>\n",
              "    <tr>\n",
              "      <th>4</th>\n",
              "      <td>896</td>\n",
              "      <td>1</td>\n",
              "    </tr>\n",
              "  </tbody>\n",
              "</table>\n",
              "</div>\n",
              "    <div class=\"colab-df-buttons\">\n",
              "\n",
              "  <div class=\"colab-df-container\">\n",
              "    <button class=\"colab-df-convert\" onclick=\"convertToInteractive('df-3b280fa5-831b-4637-83da-cd6f6c15700b')\"\n",
              "            title=\"Convert this dataframe to an interactive table.\"\n",
              "            style=\"display:none;\">\n",
              "\n",
              "  <svg xmlns=\"http://www.w3.org/2000/svg\" height=\"24px\" viewBox=\"0 -960 960 960\">\n",
              "    <path d=\"M120-120v-720h720v720H120Zm60-500h600v-160H180v160Zm220 220h160v-160H400v160Zm0 220h160v-160H400v160ZM180-400h160v-160H180v160Zm440 0h160v-160H620v160ZM180-180h160v-160H180v160Zm440 0h160v-160H620v160Z\"/>\n",
              "  </svg>\n",
              "    </button>\n",
              "\n",
              "  <style>\n",
              "    .colab-df-container {\n",
              "      display:flex;\n",
              "      gap: 12px;\n",
              "    }\n",
              "\n",
              "    .colab-df-convert {\n",
              "      background-color: #E8F0FE;\n",
              "      border: none;\n",
              "      border-radius: 50%;\n",
              "      cursor: pointer;\n",
              "      display: none;\n",
              "      fill: #1967D2;\n",
              "      height: 32px;\n",
              "      padding: 0 0 0 0;\n",
              "      width: 32px;\n",
              "    }\n",
              "\n",
              "    .colab-df-convert:hover {\n",
              "      background-color: #E2EBFA;\n",
              "      box-shadow: 0px 1px 2px rgba(60, 64, 67, 0.3), 0px 1px 3px 1px rgba(60, 64, 67, 0.15);\n",
              "      fill: #174EA6;\n",
              "    }\n",
              "\n",
              "    .colab-df-buttons div {\n",
              "      margin-bottom: 4px;\n",
              "    }\n",
              "\n",
              "    [theme=dark] .colab-df-convert {\n",
              "      background-color: #3B4455;\n",
              "      fill: #D2E3FC;\n",
              "    }\n",
              "\n",
              "    [theme=dark] .colab-df-convert:hover {\n",
              "      background-color: #434B5C;\n",
              "      box-shadow: 0px 1px 3px 1px rgba(0, 0, 0, 0.15);\n",
              "      filter: drop-shadow(0px 1px 2px rgba(0, 0, 0, 0.3));\n",
              "      fill: #FFFFFF;\n",
              "    }\n",
              "  </style>\n",
              "\n",
              "    <script>\n",
              "      const buttonEl =\n",
              "        document.querySelector('#df-3b280fa5-831b-4637-83da-cd6f6c15700b button.colab-df-convert');\n",
              "      buttonEl.style.display =\n",
              "        google.colab.kernel.accessAllowed ? 'block' : 'none';\n",
              "\n",
              "      async function convertToInteractive(key) {\n",
              "        const element = document.querySelector('#df-3b280fa5-831b-4637-83da-cd6f6c15700b');\n",
              "        const dataTable =\n",
              "          await google.colab.kernel.invokeFunction('convertToInteractive',\n",
              "                                                    [key], {});\n",
              "        if (!dataTable) return;\n",
              "\n",
              "        const docLinkHtml = 'Like what you see? Visit the ' +\n",
              "          '<a target=\"_blank\" href=https://colab.research.google.com/notebooks/data_table.ipynb>data table notebook</a>'\n",
              "          + ' to learn more about interactive tables.';\n",
              "        element.innerHTML = '';\n",
              "        dataTable['output_type'] = 'display_data';\n",
              "        await google.colab.output.renderOutput(dataTable, element);\n",
              "        const docLink = document.createElement('div');\n",
              "        docLink.innerHTML = docLinkHtml;\n",
              "        element.appendChild(docLink);\n",
              "      }\n",
              "    </script>\n",
              "  </div>\n",
              "\n",
              "\n",
              "<div id=\"df-5c768f19-49e7-4f7c-8f95-5c9ea496004f\">\n",
              "  <button class=\"colab-df-quickchart\" onclick=\"quickchart('df-5c768f19-49e7-4f7c-8f95-5c9ea496004f')\"\n",
              "            title=\"Suggest charts.\"\n",
              "            style=\"display:none;\">\n",
              "\n",
              "<svg xmlns=\"http://www.w3.org/2000/svg\" height=\"24px\"viewBox=\"0 0 24 24\"\n",
              "     width=\"24px\">\n",
              "    <g>\n",
              "        <path d=\"M19 3H5c-1.1 0-2 .9-2 2v14c0 1.1.9 2 2 2h14c1.1 0 2-.9 2-2V5c0-1.1-.9-2-2-2zM9 17H7v-7h2v7zm4 0h-2V7h2v10zm4 0h-2v-4h2v4z\"/>\n",
              "    </g>\n",
              "</svg>\n",
              "  </button>\n",
              "\n",
              "<style>\n",
              "  .colab-df-quickchart {\n",
              "      --bg-color: #E8F0FE;\n",
              "      --fill-color: #1967D2;\n",
              "      --hover-bg-color: #E2EBFA;\n",
              "      --hover-fill-color: #174EA6;\n",
              "      --disabled-fill-color: #AAA;\n",
              "      --disabled-bg-color: #DDD;\n",
              "  }\n",
              "\n",
              "  [theme=dark] .colab-df-quickchart {\n",
              "      --bg-color: #3B4455;\n",
              "      --fill-color: #D2E3FC;\n",
              "      --hover-bg-color: #434B5C;\n",
              "      --hover-fill-color: #FFFFFF;\n",
              "      --disabled-bg-color: #3B4455;\n",
              "      --disabled-fill-color: #666;\n",
              "  }\n",
              "\n",
              "  .colab-df-quickchart {\n",
              "    background-color: var(--bg-color);\n",
              "    border: none;\n",
              "    border-radius: 50%;\n",
              "    cursor: pointer;\n",
              "    display: none;\n",
              "    fill: var(--fill-color);\n",
              "    height: 32px;\n",
              "    padding: 0;\n",
              "    width: 32px;\n",
              "  }\n",
              "\n",
              "  .colab-df-quickchart:hover {\n",
              "    background-color: var(--hover-bg-color);\n",
              "    box-shadow: 0 1px 2px rgba(60, 64, 67, 0.3), 0 1px 3px 1px rgba(60, 64, 67, 0.15);\n",
              "    fill: var(--button-hover-fill-color);\n",
              "  }\n",
              "\n",
              "  .colab-df-quickchart-complete:disabled,\n",
              "  .colab-df-quickchart-complete:disabled:hover {\n",
              "    background-color: var(--disabled-bg-color);\n",
              "    fill: var(--disabled-fill-color);\n",
              "    box-shadow: none;\n",
              "  }\n",
              "\n",
              "  .colab-df-spinner {\n",
              "    border: 2px solid var(--fill-color);\n",
              "    border-color: transparent;\n",
              "    border-bottom-color: var(--fill-color);\n",
              "    animation:\n",
              "      spin 1s steps(1) infinite;\n",
              "  }\n",
              "\n",
              "  @keyframes spin {\n",
              "    0% {\n",
              "      border-color: transparent;\n",
              "      border-bottom-color: var(--fill-color);\n",
              "      border-left-color: var(--fill-color);\n",
              "    }\n",
              "    20% {\n",
              "      border-color: transparent;\n",
              "      border-left-color: var(--fill-color);\n",
              "      border-top-color: var(--fill-color);\n",
              "    }\n",
              "    30% {\n",
              "      border-color: transparent;\n",
              "      border-left-color: var(--fill-color);\n",
              "      border-top-color: var(--fill-color);\n",
              "      border-right-color: var(--fill-color);\n",
              "    }\n",
              "    40% {\n",
              "      border-color: transparent;\n",
              "      border-right-color: var(--fill-color);\n",
              "      border-top-color: var(--fill-color);\n",
              "    }\n",
              "    60% {\n",
              "      border-color: transparent;\n",
              "      border-right-color: var(--fill-color);\n",
              "    }\n",
              "    80% {\n",
              "      border-color: transparent;\n",
              "      border-right-color: var(--fill-color);\n",
              "      border-bottom-color: var(--fill-color);\n",
              "    }\n",
              "    90% {\n",
              "      border-color: transparent;\n",
              "      border-bottom-color: var(--fill-color);\n",
              "    }\n",
              "  }\n",
              "</style>\n",
              "\n",
              "  <script>\n",
              "    async function quickchart(key) {\n",
              "      const quickchartButtonEl =\n",
              "        document.querySelector('#' + key + ' button');\n",
              "      quickchartButtonEl.disabled = true;  // To prevent multiple clicks.\n",
              "      quickchartButtonEl.classList.add('colab-df-spinner');\n",
              "      try {\n",
              "        const charts = await google.colab.kernel.invokeFunction(\n",
              "            'suggestCharts', [key], {});\n",
              "      } catch (error) {\n",
              "        console.error('Error during call to suggestCharts:', error);\n",
              "      }\n",
              "      quickchartButtonEl.classList.remove('colab-df-spinner');\n",
              "      quickchartButtonEl.classList.add('colab-df-quickchart-complete');\n",
              "    }\n",
              "    (() => {\n",
              "      let quickchartButtonEl =\n",
              "        document.querySelector('#df-5c768f19-49e7-4f7c-8f95-5c9ea496004f button');\n",
              "      quickchartButtonEl.style.display =\n",
              "        google.colab.kernel.accessAllowed ? 'block' : 'none';\n",
              "    })();\n",
              "  </script>\n",
              "</div>\n",
              "    </div>\n",
              "  </div>\n"
            ]
          },
          "metadata": {},
          "execution_count": 50
        }
      ]
    },
    {
      "cell_type": "markdown",
      "source": [
        "We can also save the model itself for future use so that you don't have to train every time.  "
      ],
      "metadata": {
        "id": "yGyR-Rh3idbG"
      }
    },
    {
      "cell_type": "code",
      "source": [
        "model_final.write().save('titanic_classification.model')"
      ],
      "metadata": {
        "trusted": true,
        "id": "gxl9EUuoidbG"
      },
      "execution_count": 51,
      "outputs": []
    },
    {
      "cell_type": "code",
      "source": [
        "! ls titanic_classification.model/*"
      ],
      "metadata": {
        "trusted": true,
        "colab": {
          "base_uri": "https://localhost:8080/"
        },
        "id": "OEZyvQhuidbG",
        "outputId": "b612c43c-1023-4259-a71f-9e271c6ebe58"
      },
      "execution_count": 52,
      "outputs": [
        {
          "output_type": "stream",
          "name": "stdout",
          "text": [
            "titanic_classification.model/bestModel:\n",
            "metadata  stages\n",
            "\n",
            "titanic_classification.model/estimator:\n",
            "metadata  stages\n",
            "\n",
            "titanic_classification.model/evaluator:\n",
            "metadata\n",
            "\n",
            "titanic_classification.model/metadata:\n",
            "part-00000  _SUCCESS\n"
          ]
        }
      ]
    },
    {
      "cell_type": "markdown",
      "source": [
        "# Final thought.\n",
        "\n",
        "- We just presented a base model here and established that Spark is basically capable of doing many tasks on machine learning and model building workflow seamlessly. The model is not fine-tuned yet. It would be interesting to see Spark matching Sci-kit learn's performance.\n",
        "\n",
        "- We did not perform standardization. The reason is standardization is inbuilt in the Spark linear model and it is not needed for the tree-based models. If we had chosen a linear model as our prediction model we may have to turn it off in order to make normalization based on train data instead of test data while making a prediction.\n",
        "\n",
        "- We did not include everything in the pipeline. For example, we imputed null values outside the pipeline. In a production environment, it is required to have everything in the pipeline. So there is room for improvement."
      ],
      "metadata": {
        "id": "HW56DRQFidbG"
      }
    },
    {
      "cell_type": "code",
      "source": [],
      "metadata": {
        "trusted": true,
        "id": "AQkOW3HaidbG"
      },
      "execution_count": 52,
      "outputs": []
    }
  ]
}